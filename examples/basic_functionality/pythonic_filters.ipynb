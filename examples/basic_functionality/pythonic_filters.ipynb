{
 "cells": [
  {
   "attachments": {},
   "cell_type": "markdown",
   "metadata": {},
   "source": [
    "# Pythonic Filters\n",
    "This notebook demonstrates how to use pythonic filters to query your Chroma collection.\n",
    "> Note: Pythonic filters currently apply only to `where` (metadata) filters."
   ]
  },
  {
   "cell_type": "code",
   "execution_count": 1,
   "metadata": {
    "ExecuteTime": {
     "end_time": "2023-09-05T20:37:11.464465Z",
     "start_time": "2023-09-05T20:37:10.986610Z"
    }
   },
   "outputs": [
    {
     "name": "stdout",
     "output_type": "stream",
     "text": [
      "{'ids': ['id7'], 'embeddings': None, 'metadatas': [{'status': 'read'}], 'documents': ['A document that discusses international affairs']}\n",
      "{'ids': ['id7'], 'embeddings': None, 'metadatas': [{'status': 'read'}], 'documents': ['A document that discusses international affairs']}\n",
      "{'ids': ['id7'], 'embeddings': None, 'metadatas': [{'status': 'read'}], 'documents': ['A document that discusses international affairs']}\n"
     ]
    }
   ],
   "source": [
    "import chromadb\n",
    "client = chromadb.Client()\n",
    "# Create a new chroma collection\n",
    "collection_name = \"filter_example_collection\"\n",
    "collection = client.create_collection(name=collection_name)\n",
    "# Add some data to the collection\n",
    "collection.add(\n",
    "    embeddings=[\n",
    "        [1.1, 2.3, 3.2],\n",
    "        [4.5, 6.9, 4.4],\n",
    "        [1.1, 2.3, 3.2],\n",
    "        [4.5, 6.9, 4.4],\n",
    "        [1.1, 2.3, 3.2],\n",
    "        [4.5, 6.9, 4.4],\n",
    "        [1.1, 2.3, 3.2],\n",
    "        [4.5, 6.9, 4.4],\n",
    "    ],\n",
    "    metadatas=[\n",
    "        {\"status\": \"read\"},\n",
    "        {\"status\": \"unread\"},\n",
    "        {\"status\": \"read\"},\n",
    "        {\"status\": \"unread\"},\n",
    "        {\"status\": \"read\"},\n",
    "        {\"status\": \"unread\"},\n",
    "        {\"status\": \"read\"},\n",
    "        {\"status\": \"unread\"},\n",
    "    ],\n",
    "    documents=[\"A document that discusses domestic policy\", \"A document that discusses international affairs\", \"A document that discusses kittens\", \"A document that discusses dogs\", \"A document that discusses chocolate\", \"A document that is sixth that discusses government\", \"A document that discusses international affairs\", \"A document that discusses global affairs\"],\n",
    "    ids=[\"id1\", \"id2\", \"id3\", \"id4\", \"id5\", \"id6\", \"id7\", \"id8\"],\n",
    ")\n",
    "from chromadb.utils.query_helper import Filter\n",
    "\n",
    "# Get documents that are read and about affairs\n",
    "simple_query=collection.get(\n",
    "    where=Filter.where(\"status\"== \"read\"), \n",
    "    where_document={\"$contains\": \"affairs\"})\n",
    "\n",
    "quoted=collection.get(\n",
    "    where=Filter.where('\"status\"== \"read\"'),\n",
    "    where_document={\"$contains\": \"affairs\"})\n",
    "\n",
    "multi_line_quoted=collection.get(\n",
    "    where=Filter.where('\"status\"'\n",
    "                       '== \"read\"'),\n",
    "    where_document={\"$contains\": \"affairs\"})\n",
    "\n",
    "print(simple_query)\n",
    "print(quoted)\n",
    "print(multi_line_quoted)"
   ]
  },
  {
   "cell_type": "markdown",
   "source": [
    "# Where Filtering With Logical Operators\n",
    "This section demonstrates how one can use the logical operators in `where` filtering.\n",
    "\n",
    "Chroma currently supports: `$and` and `$or`operators.\n",
    "\n",
    "> Note: Logical operators can be nested"
   ],
   "metadata": {
    "collapsed": false
   }
  },
  {
   "cell_type": "code",
   "execution_count": 4,
   "outputs": [
    {
     "name": "stderr",
     "output_type": "stream",
     "text": [
      "Add of existing embedding ID: 1\n",
      "Add of existing embedding ID: 2\n",
      "Add of existing embedding ID: 3\n",
      "Add of existing embedding ID: 1\n",
      "Add of existing embedding ID: 2\n",
      "Add of existing embedding ID: 3\n",
      "Insert of existing embedding ID: 1\n",
      "Insert of existing embedding ID: 2\n",
      "Insert of existing embedding ID: 3\n"
     ]
    },
    {
     "name": "stdout",
     "output_type": "stream",
     "text": [
      "{'ids': ['1', '2'], 'embeddings': None, 'metadatas': [{'author': 'john'}, {'author': 'jack'}], 'documents': ['Article by john', 'Article by Jack']}\n",
      "{'ids': ['1', '2'], 'embeddings': None, 'metadatas': [{'author': 'john'}, {'author': 'jack'}], 'documents': ['Article by john', 'Article by Jack']}\n"
     ]
    }
   ],
   "source": [
    "# Or Logical Operator Filtering\n",
    "# import chromadb\n",
    "client = chromadb.Client()\n",
    "collection = client.get_or_create_collection(\"test-where-list\")\n",
    "collection.add(documents=[\"Article by john\", \"Article by Jack\", \"Article by Jill\"],\n",
    "               metadatas=[{\"author\": \"john\"}, {\"author\": \"jack\"}, {\"author\": \"jill\"}], ids=[\"1\", \"2\", \"3\"])\n",
    "\n",
    "q1=collection.get(where={\"$or\": [{\"author\": \"john\"}, {\"author\": \"jack\"}]})\n",
    "q2=collection.get(where=Filter.where(\"author\"==\"john\" or \"author\"==\"jack\"))\n",
    "print(q1)\n",
    "print(q2)"
   ],
   "metadata": {
    "collapsed": false,
    "ExecuteTime": {
     "end_time": "2023-09-05T19:23:17.106640Z",
     "start_time": "2023-09-05T19:23:17.018786Z"
    }
   }
  },
  {
   "cell_type": "code",
   "execution_count": 5,
   "outputs": [
    {
     "name": "stdout",
     "output_type": "stream",
     "text": [
      "{'ids': ['1'], 'embeddings': None, 'metadatas': [{'author': 'john', 'category': 'chroma'}], 'documents': ['Article by john']}\n",
      "{'ids': ['1'], 'embeddings': None, 'metadatas': [{'author': 'john', 'category': 'chroma'}], 'documents': ['Article by john']}\n"
     ]
    }
   ],
   "source": [
    "# And Logical Operator Filtering\n",
    "collection = client.get_or_create_collection(\"test-where-list\")\n",
    "collection.upsert(documents=[\"Article by john\", \"Article by Jack\", \"Article by Jill\"],\n",
    "               metadatas=[{\"author\": \"john\",\"category\":\"chroma\"}, {\"author\": \"jack\",\"category\":\"ml\"}, {\"author\": \"jill\",\"category\":\"lifestyle\"}], ids=[\"1\", \"2\", \"3\"])\n",
    "q1=collection.get(where={\"$and\": [{\"category\": \"chroma\"}, {\"author\": \"john\"}]})\n",
    "q2=collection.get(where=Filter.where(\"category\"==\"chroma\" and \"author\"==\"john\"))\n",
    "print(q1)\n",
    "print(q2)"
   ],
   "metadata": {
    "collapsed": false,
    "ExecuteTime": {
     "end_time": "2023-09-05T19:24:12.044661Z",
     "start_time": "2023-09-05T19:24:11.934234Z"
    }
   }
  },
  {
   "cell_type": "code",
   "execution_count": 7,
   "outputs": [
    {
     "name": "stdout",
     "output_type": "stream",
     "text": [
      "{'ids': [], 'embeddings': None, 'metadatas': [], 'documents': []}\n",
      "{'ids': [], 'embeddings': None, 'metadatas': [], 'documents': []}\n"
     ]
    }
   ],
   "source": [
    "# And logical that doesn't match anything\n",
    "q1=collection.get(where={\"$and\": [{\"category\": \"chroma\"}, {\"author\": \"jill\"}]})\n",
    "q2=collection.get(where=Filter.where(\"category\"==\"chroma\" and \"author\"==\"jill\"))\n",
    "print(q1)\n",
    "print(q2)"
   ],
   "metadata": {
    "collapsed": false,
    "ExecuteTime": {
     "end_time": "2023-09-05T19:24:43.729793Z",
     "start_time": "2023-09-05T19:24:43.710129Z"
    }
   }
  },
  {
   "cell_type": "code",
   "execution_count": 9,
   "outputs": [
    {
     "name": "stdout",
     "output_type": "stream",
     "text": [
      "{'ids': ['1'], 'embeddings': None, 'metadatas': [{'author': 'john', 'category': 'chroma'}], 'documents': ['Article by john']}\n",
      "{'ids': ['1'], 'embeddings': None, 'metadatas': [{'author': 'john', 'category': 'chroma'}], 'documents': ['Article by john']}\n"
     ]
    }
   ],
   "source": [
    "# Combined And and Or Logical Operator Filtering\n",
    "q1=collection.get(where={\"$and\": [{\"category\": \"chroma\"}, {\"$or\": [{\"author\": \"john\"}, {\"author\": \"jack\"}]}]})\n",
    "q2=collection.get(where=Filter.where(\"category\"==\"chroma\" and (\"author\"==\"john\" or \"author\"==\"jack\")))\n",
    "print(q1)\n",
    "print(q2)"
   ],
   "metadata": {
    "collapsed": false,
    "ExecuteTime": {
     "end_time": "2023-09-05T19:25:28.289481Z",
     "start_time": "2023-09-05T19:25:28.272493Z"
    }
   }
  }
 ],
 "metadata": {
  "kernelspec": {
   "display_name": "Python 3",
   "language": "python",
   "name": "python3"
  },
  "language_info": {
   "codemirror_mode": {
    "name": "ipython",
    "version": 3
   },
   "file_extension": ".py",
   "mimetype": "text/x-python",
   "name": "python",
   "nbconvert_exporter": "python",
   "pygments_lexer": "ipython3",
   "version": "3.10.8"
  },
  "orig_nbformat": 4,
  "vscode": {
   "interpreter": {
    "hash": "2395417914bce3169eff793a7d01bf858f95b138000d8d354eed93ead856f5e6"
   }
  }
 },
 "nbformat": 4,
 "nbformat_minor": 2
}
